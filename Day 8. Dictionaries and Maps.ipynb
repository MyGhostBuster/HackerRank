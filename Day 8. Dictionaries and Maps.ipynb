{
 "cells": [
  {
   "cell_type": "markdown",
   "metadata": {},
   "source": [
    "# Dictionaries and Maps"
   ]
  },
  {
   "cell_type": "code",
   "execution_count": null,
   "metadata": {
    "collapsed": true
   },
   "outputs": [],
   "source": [
    "tel={}\n",
    "n=int(raw_input())\n",
    "\n",
    "for i in range(n):\n",
    "    k=str(raw_input()).split(' ')\n",
    "    tel[k[0]]=k[1]\n",
    "    \n",
    "for i in range(n):\n",
    "    k=str(raw_input())\n",
    "    n=0\n",
    "    for i,v in tel.items():\n",
    "        if k==i:\n",
    "            print k+'='+v\n",
    "            n=n+1\n",
    "    if n==0:\n",
    "        print 'Not found'"
   ]
  }
 ],
 "metadata": {
  "kernelspec": {
   "display_name": "Python 2",
   "language": "python",
   "name": "python2"
  },
  "language_info": {
   "codemirror_mode": {
    "name": "ipython",
    "version": 2
   },
   "file_extension": ".py",
   "mimetype": "text/x-python",
   "name": "python",
   "nbconvert_exporter": "python",
   "pygments_lexer": "ipython2",
   "version": "2.7.13"
  }
 },
 "nbformat": 4,
 "nbformat_minor": 2
}
