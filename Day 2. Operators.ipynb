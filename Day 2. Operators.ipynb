{
 "cells": [
  {
   "cell_type": "markdown",
   "metadata": {},
   "source": [
    "# Operators"
   ]
  },
  {
   "cell_type": "code",
   "execution_count": 1,
   "metadata": {},
   "outputs": [
    {
     "name": "stdout",
     "output_type": "stream",
     "text": [
      "23.3\n",
      "34\n",
      "34\n",
      "The total meal cost is 39 dollars.\n"
     ]
    }
   ],
   "source": [
    "def get_total_cost_of_meal():\n",
    "    # original meal price\n",
    "    meal_cost = float(raw_input())\n",
    "    # tip percentage\n",
    "    tip_percent = int(raw_input())\n",
    "    # tax percentage\n",
    "    tax_percent = int(raw_input())\n",
    "\n",
    "    # Write your calculation code here\n",
    "    tip = meal_cost* tip_percent/100 # calculate tip\n",
    "    tax = meal_cost* tax_percent/100 # caclulate tax\n",
    "\n",
    "    # cast the result of the rounding operation to an int and save it as total_cost \n",
    "    total_cost = int(round(meal_cost+tip+tax))\n",
    "    \n",
    "    return str(total_cost)\n",
    "\n",
    "# Print your result\n",
    "print(\"The total meal cost is \" + get_total_cost_of_meal() + \" dollars.\")"
   ]
  },
  {
   "cell_type": "code",
   "execution_count": null,
   "metadata": {
    "collapsed": true
   },
   "outputs": [],
   "source": []
  }
 ],
 "metadata": {
  "kernelspec": {
   "display_name": "Python 2",
   "language": "python",
   "name": "python2"
  },
  "language_info": {
   "codemirror_mode": {
    "name": "ipython",
    "version": 2
   },
   "file_extension": ".py",
   "mimetype": "text/x-python",
   "name": "python",
   "nbconvert_exporter": "python",
   "pygments_lexer": "ipython2",
   "version": "2.7.13"
  }
 },
 "nbformat": 4,
 "nbformat_minor": 2
}
